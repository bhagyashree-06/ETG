{
  "nbformat": 4,
  "nbformat_minor": 0,
  "metadata": {
    "colab": {
      "name": "IMS.ipynb",
      "provenance": [],
      "collapsed_sections": []
    },
    "kernelspec": {
      "name": "python3",
      "display_name": "Python 3"
    },
    "language_info": {
      "name": "python"
    }
  },
  "cells": [
    {
      "cell_type": "markdown",
      "metadata": {
        "id": "w72YFJjaG5Fa"
      },
      "source": [
        "**READING JSON FILES**"
      ]
    },
    {
      "cell_type": "code",
      "metadata": {
        "id": "5Re5L4cTCSdO"
      },
      "source": [
        "#This section of code reads the contents in the records.json file and stores into dictionary records\n",
        "\n",
        "import json \n",
        "import time  \n",
        "\n",
        "file = open(\"records.json\",\"r\")     #Reading records.json\n",
        "txt = file.read()\n",
        "file.close()\n",
        "records = json.loads(txt)\n",
        "\n",
        "file = open(\"sales.json\",'r')   #Reading sales.json\n",
        "txt = file.read()\n",
        "file.close()\n",
        "txns = json.loads(txt)\n",
        "\n",
        "txnid = []\n",
        "for i in txns.keys() :\n",
        "  txnid.append(int(i))\n",
        "txnid = max(txnid)"
      ],
      "execution_count": 3,
      "outputs": []
    },
    {
      "cell_type": "markdown",
      "metadata": {
        "id": "qkmxBOTLGyXI"
      },
      "source": [
        "**DISPLAY RECORDS**"
      ]
    },
    {
      "cell_type": "code",
      "metadata": {
        "colab": {
          "base_uri": "https://localhost:8080/"
        },
        "id": "x1DXJEwFEGkw",
        "outputId": "8e2fed52-7175-43d1-a47c-0c60d3461155"
      },
      "source": [
        "#This section prints the items in records\n",
        "\n",
        "print(f'{\"ID\":<6}',f'{\"NAME\":<20}',f'{\"PRICE(Rs)\":<10}',f'{\"QUANTITY\":<9}')\n",
        "for i in range(48) : print(\"-\",end = \"\")\n",
        "print()\n",
        "for i in records.keys() :\n",
        "  name = records[i]['name']\n",
        "  pr = records[i]['pr']\n",
        "  qn = records[i]['qn']\n",
        "  print(f'{i:<6}',f'{name:<20}',f'{pr:<10}',f'{qn:<9}')"
      ],
      "execution_count": 4,
      "outputs": [
        {
          "output_type": "stream",
          "name": "stdout",
          "text": [
            "ID     NAME                 PRICE(Rs)  QUANTITY \n",
            "------------------------------------------------\n",
            "1001   Choco Cake           100        25       \n",
            "1002   Milk Cake            800        100      \n",
            "1003   Drink                85         150      \n",
            "1004   Candy                5          450      \n",
            "1005   Pen                  20         198      \n",
            "1006   Phone                50000      9        \n",
            "1007   Mic                  1500       48       \n",
            "1008   Case                 599        5        \n",
            "1009   Keyboard             1999       10       \n",
            "1010   Laptop               50000      49       \n",
            "1011   Trimmer              560        70       \n",
            "1012   Notebook             30         197      \n",
            "1013   Bag                  300        40       \n",
            "1014   Shoe                 700        99       \n",
            "1015   Earphones            400        48       \n",
            "1016   Camera               2000       80       \n",
            "1017   Mattress             900        75       \n",
            "1018   Chair                470        88       \n",
            "1019   TV                   39999      20       \n",
            "1020   AC                   15999      31       \n",
            "1021   Microwave            7999       49       \n",
            "1022   Refrigerator         26999      160      \n",
            "1023   Washing Machine      15999      30       \n",
            "1024   Helmet               599        79       \n",
            "1025   Car cover            799        199      \n",
            "1026   Bike cover           599        250      \n",
            "1027   Vacuum cleaner       23999      60       \n",
            "1028   Perfume              759        250      \n",
            "1029   Painting kit         300        280      \n",
            "1030   Bottle               70         500      \n",
            "1031   Soap                 40         300      \n",
            "1032   Towel                70         197      \n",
            "1033   Mouse                400        120      \n",
            "1034   Pillow               200        300      \n",
            "1035   Slippers             250        300      \n",
            "1036   Shampoo              120        150      \n"
          ]
        }
      ]
    },
    {
      "cell_type": "markdown",
      "metadata": {
        "id": "JwymD9wDGnBy"
      },
      "source": [
        "**DISPLAY TRANACTIONS**"
      ]
    },
    {
      "cell_type": "code",
      "metadata": {
        "colab": {
          "base_uri": "https://localhost:8080/"
        },
        "id": "oxzrDQCpELBT",
        "outputId": "61982cad-72fa-43a7-e0c8-debb287e62ef"
      },
      "source": [
        "#This section prints the items in records\n",
        "\n",
        "print(f'{\"ID\":<6}',f'{\"NAME\":<20}',f'{\"PRICE(Rs)\":<10}',f'{\"QUANTITY\":<9}')\n",
        "for i in range(48) : print(\"-\",end = \"\")\n",
        "print()\n",
        "for i in records.keys() :\n",
        "  name = records[i]['name']\n",
        "  pr = records[i]['pr']\n",
        "  qn = records[i]['qn']\n",
        "  print(f'{i:<6}',f'{name:<20}',f'{pr:<10}',f'{qn:<9}')"
      ],
      "execution_count": 5,
      "outputs": [
        {
          "output_type": "stream",
          "name": "stdout",
          "text": [
            "ID     NAME                 PRICE(Rs)  QUANTITY \n",
            "------------------------------------------------\n",
            "1001   Choco Cake           100        25       \n",
            "1002   Milk Cake            800        100      \n",
            "1003   Drink                85         150      \n",
            "1004   Candy                5          450      \n",
            "1005   Pen                  20         198      \n",
            "1006   Phone                50000      9        \n",
            "1007   Mic                  1500       48       \n",
            "1008   Case                 599        5        \n",
            "1009   Keyboard             1999       10       \n",
            "1010   Laptop               50000      49       \n",
            "1011   Trimmer              560        70       \n",
            "1012   Notebook             30         197      \n",
            "1013   Bag                  300        40       \n",
            "1014   Shoe                 700        99       \n",
            "1015   Earphones            400        48       \n",
            "1016   Camera               2000       80       \n",
            "1017   Mattress             900        75       \n",
            "1018   Chair                470        88       \n",
            "1019   TV                   39999      20       \n",
            "1020   AC                   15999      31       \n",
            "1021   Microwave            7999       49       \n",
            "1022   Refrigerator         26999      160      \n",
            "1023   Washing Machine      15999      30       \n",
            "1024   Helmet               599        79       \n",
            "1025   Car cover            799        199      \n",
            "1026   Bike cover           599        250      \n",
            "1027   Vacuum cleaner       23999      60       \n",
            "1028   Perfume              759        250      \n",
            "1029   Painting kit         300        280      \n",
            "1030   Bottle               70         500      \n",
            "1031   Soap                 40         300      \n",
            "1032   Towel                70         197      \n",
            "1033   Mouse                400        120      \n",
            "1034   Pillow               200        300      \n",
            "1035   Slippers             250        300      \n",
            "1036   Shampoo              120        150      \n"
          ]
        }
      ]
    },
    {
      "cell_type": "markdown",
      "metadata": {
        "id": "4gpQQRmlGhlo"
      },
      "source": [
        "**ADDING NEW PRODUCTS TO THE RECORD**"
      ]
    },
    {
      "cell_type": "code",
      "metadata": {
        "colab": {
          "base_uri": "https://localhost:8080/"
        },
        "id": "GvG-LMn9EPcZ",
        "outputId": "5f8b0e0e-531a-4841-8a95-7a7413d99294"
      },
      "source": [
        "#This section adds new product to the product details\n",
        "\n",
        "pdtid = input(\"Enter the product id : \")\n",
        "name = input(\"Enter the product name : \")\n",
        "pr = int(input(\"Enter the product price : \"))\n",
        "qn = int(input(\"Enter the quantity of the product : \"))\n",
        "records[pdtid] = {'name':name,'pr':pr,'qn':qn}\n",
        "print(\"PRODUCT ADDED\") \n",
        "\n",
        "txnid = txnid +1     #Updating txns\n",
        "ti = time.ctime()\n",
        "txns[txnid] = {'pdtid':pdtid,'name':name,'pr':pr,'qn':qn,'fn':\"NEW\",'ti':ti}\n"
      ],
      "execution_count": 7,
      "outputs": [
        {
          "output_type": "stream",
          "name": "stdout",
          "text": [
            "Enter the product id : 1021\n",
            "Enter the product name : Microwave\n",
            "Enter the product price : 7999\n",
            "Enter the quantity of the product : 2\n",
            "PRODUCT ADDED\n"
          ]
        }
      ]
    },
    {
      "cell_type": "markdown",
      "metadata": {
        "id": "qH4WJIsRGU8c"
      },
      "source": [
        "**bold text**"
      ]
    },
    {
      "cell_type": "markdown",
      "metadata": {
        "id": "DyYkmDXpFzg-"
      },
      "source": [
        "**ADDIND EXISTING PRODUCTS**"
      ]
    },
    {
      "cell_type": "code",
      "metadata": {
        "colab": {
          "base_uri": "https://localhost:8080/"
        },
        "id": "jOWVIRb2Enf7",
        "outputId": "0c96188c-32ad-4e44-a389-9f5b448ed685"
      },
      "source": [
        "pdtid = input(\"Enter the product id : \")\n",
        "name = records[pdtid]['name']\n",
        "print(\"Product name : \",name)\n",
        "pr = records[pdtid]['pr']\n",
        "print(\"Product price : \",pr)\n",
        "qn = records[pdtid]['qn']\n",
        "print(\"Available product quantity : \",qn)\n",
        "qt = int(input(\"Enter the quantity to be added : \"))\n",
        "qn = qt + qn\n",
        "records[pdtid] = {'name':name,'pr':pr ,'qn':qn}\n",
        "print(\"PRODUCT ADDED\") \n",
        "\n",
        "\n",
        "txnid = txnid +1     #Updating txns\n",
        "ti = time.ctime()\n",
        "txns[txnid] = {'pdtid':pdtid,'name':name,'pr':pr,'qn':qn,'fn':\"ADDED\",'ti':ti}"
      ],
      "execution_count": 8,
      "outputs": [
        {
          "output_type": "stream",
          "name": "stdout",
          "text": [
            "Enter the product id : 1026\n",
            "Product name :  Bike cover\n",
            "Product price :  599\n",
            "Available product quantity :  250\n",
            "Enter the quantity to be added : 20\n",
            "PRODUCT ADDED\n"
          ]
        }
      ]
    },
    {
      "cell_type": "markdown",
      "metadata": {
        "id": "vl5RCeH1FvmA"
      },
      "source": [
        "**REMOVING A PRODUCT**"
      ]
    },
    {
      "cell_type": "code",
      "metadata": {
        "colab": {
          "base_uri": "https://localhost:8080/"
        },
        "id": "Q1USc0aJEvkQ",
        "outputId": "37b5d36f-fae3-40de-c27f-034fc0e7297c"
      },
      "source": [
        "#Removing a product makes its quantity 0\n",
        "\n",
        "pdtid = input(\"Enter the product id : \")\n",
        "records[pdtid]['qn'] = 0\n",
        "print(\"Product quantity made 0\")\n",
        "\n",
        "#Updating txns \n",
        "txnid = txnid +1\n",
        "ti = time.ctime()\n",
        "name = records[pdtid]['name']\n",
        "pr = records[pdtid]['pr']\n",
        "qn = records[pdtid]['qn']\n",
        "txns[txnid] = {'pdtid':pdtid,'name':name,'pr':pr,'qn':qn,'fn':\"REMOVED\",'ti':ti}"
      ],
      "execution_count": 9,
      "outputs": [
        {
          "output_type": "stream",
          "name": "stdout",
          "text": [
            "Enter the product id : 1027\n",
            "Product quantity made 0\n"
          ]
        }
      ]
    },
    {
      "cell_type": "markdown",
      "metadata": {
        "id": "FgwpWm2FFlGC"
      },
      "source": [
        "**PURCHASING PRODUCT**"
      ]
    },
    {
      "cell_type": "code",
      "metadata": {
        "colab": {
          "base_uri": "https://localhost:8080/"
        },
        "id": "bPMO1yLTE2Qf",
        "outputId": "3b764cd4-42c8-4b1c-fc6c-913a5226193a"
      },
      "source": [
        "pdtid = input(\"Enter the product id : \")\n",
        "print(f'{\"Product name\":<13}',': ',records[pdtid]['name'])\n",
        "print(f'{\"Price\":<13}',': ',records[pdtid]['pr'])\n",
        "print(f'{\"Quantity\":<13}',': ',records[pdtid]['qn'])\n",
        "qt =int(input(\"Enter quantity to be purchased : \"))\n",
        "if(qt > records[pdtid]['qn']) : print (\"Note : Excess quantity entered\\nQuantity available : \",records[i]['qn'])\n",
        "else :\n",
        "  print(\"Bill(Rs) : \",records[pdtid]['pr']*qt)\n",
        "  print(\"Product successfully purchased\")\n",
        "  records[pdtid]['qn'] = records[pdtid]['qn'] - qt\n",
        "  txnid = txnid +1         #Updating txns\n",
        "  ti = time.ctime()\n",
        "  name = records[pdtid]['name']\n",
        "  pr = records[pdtid]['pr']\n",
        "  qn = records[pdtid]['qn']\n",
        "  txns[txnid] = {'pdtid':pdtid,'name':name,'pr':pr,'qn':qt,'fn':\"PURCHASED\",'ti':ti}"
      ],
      "execution_count": 11,
      "outputs": [
        {
          "output_type": "stream",
          "name": "stdout",
          "text": [
            "Enter the product id : 1005\n",
            "Product name  :  Pen\n",
            "Price         :  20\n",
            "Quantity      :  198\n",
            "Enter quantity to be purchased : 10\n",
            "Bill(Rs) :  200\n",
            "Product successfully purchased\n"
          ]
        }
      ]
    },
    {
      "cell_type": "markdown",
      "metadata": {
        "id": "gkCBZSjnFUII"
      },
      "source": [
        "**WRITING THE JSON FILES**"
      ]
    },
    {
      "cell_type": "code",
      "metadata": {
        "id": "WZvoU3UqFE2N"
      },
      "source": [
        "file = open (\"records.json\",'w')    #writing records.json\n",
        "txt = json.dumps(records)\n",
        "file.write(txt)\n",
        "file.close()\n",
        "\n",
        "\n",
        "file = open (\"sales.json\",'w')    #writing sales.json\n",
        "txt = json.dumps(txns)\n",
        "file.write(txt)\n",
        "file.close()"
      ],
      "execution_count": 12,
      "outputs": []
    },
    {
      "cell_type": "code",
      "metadata": {
        "colab": {
          "base_uri": "https://localhost:8080/"
        },
        "id": "Mwa1u0FoFIXm",
        "outputId": "ef64800f-1dc0-47d4-c2bc-2ed083f09482"
      },
      "source": [
        "###This section is used only to delete the product along with product id if any mistake is made while entering the product id\n",
        "\n",
        "wrongid = input(\"Enter the incorrectly typed id : \")\n",
        "if wrongid in records.keys() :\n",
        "  del records[wrongid]\n",
        "  print(\"ID DELETED\")\n",
        "else :\n",
        "  print(\"***THIS INCORRECT ID HAS NOT BEEN ENTERED***\")"
      ],
      "execution_count": 13,
      "outputs": [
        {
          "output_type": "stream",
          "name": "stdout",
          "text": [
            "Enter the incorrectly typed id : 1049\n",
            "***THIS INCORRECT ID HAS NOT BEEN ENTERED***\n"
          ]
        }
      ]
    },
    {
      "cell_type": "markdown",
      "metadata": {
        "id": "gbelyVrTFM0_"
      },
      "source": [
        "# **FIN.**"
      ]
    }
  ]
}