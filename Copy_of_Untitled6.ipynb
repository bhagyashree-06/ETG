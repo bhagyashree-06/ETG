{
  "nbformat": 4,
  "nbformat_minor": 0,
  "metadata": {
    "colab": {
      "name": "Copy of Untitled6.ipynb",
      "provenance": [],
      "collapsed_sections": [],
      "authorship_tag": "ABX9TyPmAeYxdtXYrKu6hpLt4fZU"
    },
    "kernelspec": {
      "name": "python3",
      "display_name": "Python 3"
    },
    "language_info": {
      "name": "python"
    }
  },
  "cells": [
    {
      "cell_type": "code",
      "metadata": {
        "id": "3IhouJk92fMt"
      },
      "source": [
        "records = {1000:{\"productName\":\"Kellog's Chocos\" ,\"price\":50 ,\"quanityAvailable\":100 ,\"weight_Gms\":156 ,\"expiryDate\":\"31/12/2022\"}, \n",
        "           1001:{\"productName\":\"Lays\",\"price\":50,\"quanityAvailable\":200 ,\"weight_Gms\":115 ,\"expiryDate\":\"31/12/2022\"},\n",
        "           1002:{\"productName\":\"Unibic\" ,\"price\":40 ,\"quanityAvailable\":60 ,\"weight_Gms\":30 ,\"expiryDate\":\"31/12/2022\"},\n",
        "           1003:{\"productName\":\"McCain\" ,\"price\":110 ,\"quanityAvailable\":50 ,\"weight_Gms\":415 ,\"expiryDate\":\"31/12/2022\"},\n",
        "           1004:{\"productName\":\"ACT II Popcorn\" ,\"price\":110 ,\"quanityAvailable\":70 ,\"weight_Gms\":210 ,\"expiryDate\":\"31/12/2022\"},\n",
        "           1005:{\"productName\":\"Kurkure\" ,\"price\":20 ,\"quanityAvailable\":50 ,\"weight_Gms\":20 ,\"expiryDate\":\"31/12/2022\"},\n",
        "           1006:{\"productName\":\"Chedda's Chips\" ,\"price\":150 ,\"quanityAvailable\":55 ,\"weight_Gms\":500 ,\"expiryDate\":\"31/12/2022\"},\n",
        "           1007:{\"productName\":\"Diet Chivda\" ,\"price\":55 ,\"quanityAvailable\":76 ,\"weight_Gms\":140 ,\"expiryDate\":\"31/12/2022\"},\n",
        "           1008:{\"productName\":\"Bakarwadi\" ,\"price\":92 ,\"quanityAvailable\":29 ,\"weight_Gms\":250 ,\"expiryDate\":\"31/12/2022\"},\n",
        "           1009:{\"productName\":\"Papad\" ,\"price\":60 ,\"quanityAvailable\":50 ,\"weight_Gms\":200,\"expiryDate\":\"31/12/2022\"},\n",
        "           1010:{\"productName\":\"Golden Mix\",\"price\":80 ,\"quanityAvailable\":81 ,\"weight_Gms\":245 ,\"expiryDate\":\"31/12/2022\"},\n",
        "           1011:{\"productName\":\"Peanut Butter\" ,\"price\":425 ,\"quanityAvailable\":75 ,\"weight_Gms\":1000 ,\"expiryDate\":\"31/12/2022\"},\n",
        "           1012:{\"productName\":\"Aloo Bhujia\" ,\"price\":300 ,\"quanityAvailable\":84 ,\"weight_Gms\":1000 ,\"expiryDate\":\"31/12/2022\"},\n",
        "           1013:{\"productName\":\"Diet Coke Tin\" ,\"price\":40 ,\"quanityAvailable\":36 ,\"weight_Gms\":300 ,\"expiryDate\":\"31/12/2022\"},\n",
        "           1014:{\"productName\":\"Appy Fizz\" ,\"price\":50 ,\"quanityAvailable\":43 ,\"weight_Gms\":1000 ,\"expiryDate\":\"31/12/2022\"},\n",
        "           1015:{\"productName\":\"Bingo Chips\" ,\"price\":50 ,\"quanityAvailable\":100 ,\"weight_Gms\":100 ,\"expiryDate\":\"31/12/2022\"},\n",
        "           1016:{\"productName\":\"Brownie\" ,\"price\":145 ,\"quanityAvailable\":140 ,\"weight_Gms\":264 ,\"expiryDate\":\"31/12/2022\"},\n",
        "           1017:{\"productName\":\"Waffles\" ,\"price\":120 ,\"quanityAvailable\":184 ,\"weight_Gms\":250 ,\"expiryDate\":\"31/12/2022\"},\n",
        "           1018:{\"productName\":\"Soya Sticks\" ,\"price\":60 ,\"quanityAvailable\":250 ,\"weight_Gms\":200 ,\"expiryDate\":\"31/12/2022\"},\n",
        "           1019:{\"productName\":\"Cookies\" ,\"price\":200 ,\"quanityAvailable\":94 ,\"weight_Gms\":125 ,\"expiryDate\":\"31/12/2022\"},\n",
        "           1020:{\"productName\":\"Maggie\" ,\"price\":120 ,\"quanityAvailable\":56 ,\"weight_Gms\":500 ,\"expiryDate\":\"31/12/2022\"},\n",
        "           1021:{\"productName\":\"Hide & Seek\" ,\"price\":100 ,\"quanityAvailable\":76 ,\"weight_Gms\":350 ,\"expiryDate\":\"31/12/2022\"},\n",
        "           1022:{\"productName\":\"Karachi Biscuits\" ,\"price\":170 ,\"quanityAvailable\":60 ,\"weight_Gms\":400 ,\"expiryDate\":\"31/12/2022\"},\n",
        "           1023:{\"productName\":\"Tomato Ketchup\" ,\"price\":120 ,\"quanityAvailable\":90 ,\"weight_Gms\":950 ,\"expiryDate\":\"31/12/2022\"},\n",
        "           1024:{\"productName\":\"Knorr Monchow soup\" ,\"price\":10 ,\"quanityAvailable\":78 ,\"weight_Gms\":12 ,\"expiryDate\":\"31/12/2022\"},\n",
        "           1025:{\"productName\":\"Coffee\" ,\"price\":175 ,\"quanityAvailable\":102 ,\"weight_Gms\":100 ,\"expiryDate\":\"31/12/2022\"},\n",
        "           1026:{\"productName\":\"Spaghetti\" ,\"price\":240 ,\"quanityAvailable\":179 ,\"weight_Gms\":500 ,\"expiryDate\":\"31/12/2022\"},\n",
        "           1027:{\"productName\":\"Pasta\" ,\"price\":250 ,\"quanityAvailable\":213 ,\"weight_Gms\":500 ,\"expiryDate\":\"31/12/2022\"},\n",
        "           1028:{\"productName\":\"Jam\" ,\"price\":215 ,\"quanityAvailable\":58 ,\"weight_Gms\":700 ,\"expiryDate\":\"31/12/2022\"},\n",
        "           1029:{\"productName\":\"Honey\" ,\"price\":1000 ,\"quanityAvailable\":70 ,\"weight_Gms\":430 ,\"expiryDate\":\"31/12/2022\"},\n",
        "           1030:{\"productName\":\"Veg Mayonnaise\" ,\"price\":240 ,\"quanityAvailable\":90 ,\"weight_Gms\":1200 ,\"expiryDate\":\"31/12/2022\"}}\n",
        "\n",
        "\n"
      ],
      "execution_count": 4,
      "outputs": []
    },
    {
      "cell_type": "code",
      "metadata": {
        "id": "Oy_3DUmGBHZJ"
      },
      "source": [
        "import json\n",
        "import time\n",
        "from tabulate import tabulate\n"
      ],
      "execution_count": 10,
      "outputs": []
    },
    {
      "cell_type": "code",
      "metadata": {
        "id": "GZoWMiV4I-8e"
      },
      "source": [
        "js = json.dumps(records)\n",
        "fd = open(\"records.json\",\"r\")\n",
        "fd.read()\n",
        "fd.close()\n"
      ],
      "execution_count": 14,
      "outputs": []
    },
    {
      "cell_type": "code",
      "metadata": {
        "id": "VQ1IawyfNIXj",
        "colab": {
          "base_uri": "https://localhost:8080/",
          "height": 579
        },
        "outputId": "cf8aa067-3c34-482f-c445-531d5a7b9118"
      },
      "source": [
        "js\n"
      ],
      "execution_count": 15,
      "outputs": [
        {
          "output_type": "execute_result",
          "data": {
            "application/vnd.google.colaboratory.intrinsic+json": {
              "type": "string"
            },
            "text/plain": [
              "'{\"1000\": {\"productName\": \"Kellog\\'s Chocos\", \"price\": 50, \"quanityAvailable\": 100, \"weight_Gms\": 156, \"expiryDate\": \"31/12/2022\"}, \"1001\": {\"productName\": \"Lays\", \"price\": 50, \"quanityAvailable\": 200, \"weight_Gms\": 115, \"expiryDate\": \"31/12/2022\"}, \"1002\": {\"productName\": \"Unibic\", \"price\": 40, \"quanityAvailable\": 60, \"weight_Gms\": 30, \"expiryDate\": \"31/12/2022\"}, \"1003\": {\"productName\": \"McCain\", \"price\": 110, \"quanityAvailable\": 50, \"weight_Gms\": 415, \"expiryDate\": \"31/12/2022\"}, \"1004\": {\"productName\": \"ACT II Popcorn\", \"price\": 110, \"quanityAvailable\": 70, \"weight_Gms\": 210, \"expiryDate\": \"31/12/2022\"}, \"1005\": {\"productName\": \"Kurkure\", \"price\": 20, \"quanityAvailable\": 50, \"weight_Gms\": 20, \"expiryDate\": \"31/12/2022\"}, \"1006\": {\"productName\": \"Chedda\\'s Chips\", \"price\": 150, \"quanityAvailable\": 55, \"weight_Gms\": 500, \"expiryDate\": \"31/12/2022\"}, \"1007\": {\"productName\": \"Diet Chivda\", \"price\": 55, \"quanityAvailable\": 76, \"weight_Gms\": 140, \"expiryDate\": \"31/12/2022\"}, \"1008\": {\"productName\": \"Bakarwadi\", \"price\": 92, \"quanityAvailable\": 29, \"weight_Gms\": 250, \"expiryDate\": \"31/12/2022\"}, \"1009\": {\"productName\": \"Papad\", \"price\": 60, \"quanityAvailable\": 50, \"weight_Gms\": 200, \"expiryDate\": \"31/12/2022\"}, \"1010\": {\"productName\": \"Golden Mix\", \"price\": 80, \"quanityAvailable\": 80, \"weight_Gms\": 245, \"expiryDate\": \"31/12/2022\"}, \"1011\": {\"productName\": \"Peanut Butter\", \"price\": 425, \"quanityAvailable\": 75, \"weight_Gms\": 1000, \"expiryDate\": \"31/12/2022\"}, \"1012\": {\"productName\": \"Aloo Bhujia\", \"price\": 300, \"quanityAvailable\": 84, \"weight_Gms\": 1000, \"expiryDate\": \"31/12/2022\"}, \"1013\": {\"productName\": \"Diet Coke Tin\", \"price\": 40, \"quanityAvailable\": 36, \"weight_Gms\": 300, \"expiryDate\": \"31/12/2022\"}, \"1014\": {\"productName\": \"Appy Fizz\", \"price\": 50, \"quanityAvailable\": 43, \"weight_Gms\": 1000, \"expiryDate\": \"31/12/2022\"}, \"1015\": {\"productName\": \"Bingo Chips\", \"price\": 50, \"quanityAvailable\": 98, \"weight_Gms\": 100, \"expiryDate\": \"31/12/2022\"}, \"1016\": {\"productName\": \"Brownie\", \"price\": 145, \"quanityAvailable\": 140, \"weight_Gms\": 264, \"expiryDate\": \"31/12/2022\"}, \"1017\": {\"productName\": \"Waffles\", \"price\": 120, \"quanityAvailable\": 182, \"weight_Gms\": 250, \"expiryDate\": \"31/12/2022\"}, \"1018\": {\"productName\": \"Soya Sticks\", \"price\": 60, \"quanityAvailable\": 250, \"weight_Gms\": 200, \"expiryDate\": \"31/12/2022\"}, \"1019\": {\"productName\": \"Cookies\", \"price\": 200, \"quanityAvailable\": 94, \"weight_Gms\": 125, \"expiryDate\": \"31/12/2022\"}, \"1020\": {\"productName\": \"Maggie\", \"price\": 120, \"quanityAvailable\": 56, \"weight_Gms\": 500, \"expiryDate\": \"31/12/2022\"}, \"1021\": {\"productName\": \"Hide & Seek\", \"price\": 100, \"quanityAvailable\": 76, \"weight_Gms\": 350, \"expiryDate\": \"31/12/2022\"}, \"1022\": {\"productName\": \"Karachi Biscuits\", \"price\": 170, \"quanityAvailable\": 60, \"weight_Gms\": 400, \"expiryDate\": \"31/12/2022\"}, \"1023\": {\"productName\": \"Tomato Ketchup\", \"price\": 120, \"quanityAvailable\": 90, \"weight_Gms\": 950, \"expiryDate\": \"31/12/2022\"}, \"1024\": {\"productName\": \"Knorr Monchow soup\", \"price\": 10, \"quanityAvailable\": 78, \"weight_Gms\": 12, \"expiryDate\": \"31/12/2022\"}, \"1025\": {\"productName\": \"Coffee\", \"price\": 175, \"quanityAvailable\": 102, \"weight_Gms\": 100, \"expiryDate\": \"31/12/2022\"}, \"1026\": {\"productName\": \"Spaghetti\", \"price\": 240, \"quanityAvailable\": 179, \"weight_Gms\": 500, \"expiryDate\": \"31/12/2022\"}, \"1027\": {\"productName\": \"Pasta\", \"price\": 250, \"quanityAvailable\": 213, \"weight_Gms\": 500, \"expiryDate\": \"31/12/2022\"}, \"1028\": {\"productName\": \"Jam\", \"price\": 215, \"quanityAvailable\": 58, \"weight_Gms\": 700, \"expiryDate\": \"31/12/2022\"}, \"1029\": {\"productName\": \"Honey\", \"price\": 1000, \"quanityAvailable\": 70, \"weight_Gms\": 430, \"expiryDate\": \"31/12/2022\"}, \"1030\": {\"productName\": \"Veg Mayonnaise\", \"price\": 240, \"quanityAvailable\": 90, \"weight_Gms\": 1200, \"expiryDate\": \"31/12/2022\"}}'"
            ]
          },
          "metadata": {},
          "execution_count": 15
        }
      ]
    },
    {
      "cell_type": "code",
      "metadata": {
        "id": "xEISh45VisLZ"
      },
      "source": [
        "l=[]\n",
        "def bill():\n",
        "    print('--------------------------------------------')\n",
        "    print('            HERE IS YOUR BILL               ')\n",
        "    print('--------------------------------------------')\n",
        "    #print('Product'+'  '+'Quantity'+'  '+'Price')\n",
        "    print('product\\t\\t\\tquantity\\tprice')\n",
        " \n",
        "    for prod_id in l: \n",
        "        Total = 0       \n",
        "        print(records[prod_id]['productName'],'\\t\\t',quant,'\\t\\t',sum*quant)\n",
        "        Total= Total+sum\n",
        "    print('Total Bill = ',Total)\n",
        "\n"
      ],
      "execution_count": 21,
      "outputs": []
    },
    {
      "cell_type": "code",
      "metadata": {
        "colab": {
          "base_uri": "https://localhost:8080/"
        },
        "id": "ZczEUDZQNw3G",
        "outputId": "3c9f459e-fe6c-4b68-8409-1faedf886f90"
      },
      "source": [
        "if __name__ == '__main__':\n",
        "  print('---------------------------------------------')\n",
        "  print('             WELCOME TO ETG STORE            ')\n",
        "  print('---------------------------------------------\\n')\n",
        "\n",
        "  print('Dear Customer, select from the below options :')\n",
        "  print('1. View Items\\n2. Purchase Items\\n3. Exit\\n')\n",
        "  select = int(input('Enter your choice : '))\n",
        "  print('\\n')\n",
        "\n",
        "  if select == 1:\n",
        "    print('product-id','    product name','    price')\n",
        "    print('--------------------------------------------------------')\n",
        "    for i in records:\n",
        "      \n",
        "      print(i, \"  |  \", records[i][\"productName\"],' |  ',records[i]['price'])\n",
        "      print('--------------------------------------------------------')\n",
        "\n",
        "  if select == 2 :   \n",
        "    prod_id = int(input(\"Enter the product Id of item you wish to buy : \"))\n",
        "    if (prod_id >= 1000 and prod_id <=1030):\n",
        "      l.append(prod_id)\n",
        "      quant = int(input(\"Enter the quantity you wish to purschase : \"))\n",
        "      if (quant<= records[prod_id]['quanityAvailable']):\n",
        "        sum = (records[prod_id][\"price\"])*quant\n",
        "        print(\"Your Product : \",records[prod_id][\"productName\"])\n",
        "        print(\"Price : \",sum)\n",
        "      else:\n",
        "        print(\"Out of Stock\")\n",
        "    records[prod_id][\"quanityAvailable\"] = records[prod_id][\"quanityAvailable\"] - quant\n",
        "    bill()\n",
        "\n",
        "\n",
        "\n"
      ],
      "execution_count": 20,
      "outputs": [
        {
          "output_type": "stream",
          "name": "stdout",
          "text": [
            "---------------------------------------------\n",
            "             WELCOME TO ETG STORE            \n",
            "---------------------------------------------\n",
            "\n",
            "Dear Customer, select from the below options :\n",
            "1. View Items\n",
            "2. Purchase Items\n",
            "3. Exit\n",
            "\n",
            "Enter your choice : 2\n",
            "\n",
            "\n",
            "Enter the product Id of item you wish to buy : 1000\n",
            "Enter the quantity you wish to purschase : 1\n",
            "Your Product :  Kellog's Chocos\n",
            "Price :  50\n",
            "--------------------------------------------\n",
            "            HERE IS YOUR BILL               \n",
            "--------------------------------------------\n",
            "product\t\t\tquantity\tprice\n",
            "Unibic \t\t 1 \t\t 50\n",
            "ACT II Popcorn \t\t 1 \t\t 50\n",
            "Kellog's Chocos \t\t 1 \t\t 50\n",
            "Total Bill =  50\n"
          ]
        }
      ]
    },
    {
      "cell_type": "code",
      "metadata": {
        "id": "QdyGUZxsf3NU"
      },
      "source": [
        ""
      ],
      "execution_count": null,
      "outputs": []
    }
  ]
}